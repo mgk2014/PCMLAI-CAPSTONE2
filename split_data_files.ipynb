{
 "cells": [
  {
   "cell_type": "code",
   "execution_count": 5,
   "metadata": {},
   "outputs": [],
   "source": [
    "\n",
    "import pandas as pd"
   ]
  },
  {
   "cell_type": "code",
   "execution_count": 6,
   "metadata": {},
   "outputs": [],
   "source": [
    "# split the data files provided from Kaggle. The original data set is 13M records which translated rto 3.5GB of data. \n",
    "# Due to compute restrictions and also limitations on size of uploads to Github, this analysis will be done on a subset of the data.\n",
    "\n",
    "nrows = 500000                          \n",
    "\n",
    "dtype_spec = {                          # added to avoid a data load warning about objectives types for these features\n",
    "    'ActionGrouped': 'object',\n",
    "    'ActionGranular': 'object'\n",
    "}\n",
    "\n",
    "# Load the data file\n",
    "train_data = pd.read_csv('ORIGINAL-DATA/GUIDE_Train.csv', dtype=dtype_spec).sample(random_state=42, n=nrows)\n",
    "test_data = pd.read_csv('ORIGINAL-DATA/GUIDE_Test.csv', dtype=dtype_spec).sample(random_state=42, n=nrows)"
   ]
  },
  {
   "cell_type": "code",
   "execution_count": 7,
   "metadata": {},
   "outputs": [
    {
     "data": {
      "text/plain": [
       "(IncidentGrade\n",
       " BenignPositive    43.333561\n",
       " TruePositive      35.145158\n",
       " FalsePositive     21.521281\n",
       " Name: proportion, dtype: float64,\n",
       " IncidentGrade\n",
       " BenignPositive    42.2350\n",
       " TruePositive      36.1058\n",
       " FalsePositive     21.6592\n",
       " Name: proportion, dtype: float64)"
      ]
     },
     "execution_count": 7,
     "metadata": {},
     "output_type": "execute_result"
    }
   ],
   "source": [
    "train_data.IncidentGrade.value_counts(normalize=True) * 100, test_data.IncidentGrade.value_counts(normalize=True) * 100"
   ]
  },
  {
   "cell_type": "code",
   "execution_count": 8,
   "metadata": {},
   "outputs": [],
   "source": [
    "# Save the training data with fewer rows\n",
    "\n",
    "train_data.to_csv('DATA/GUIDE_Train.csv', index=False, compression='zip')\n",
    "test_data.to_csv('DATA/GUIDE_Test.csv', index=False, compression='zip')"
   ]
  },
  {
   "cell_type": "code",
   "execution_count": null,
   "metadata": {},
   "outputs": [],
   "source": []
  }
 ],
 "metadata": {
  "kernelspec": {
   "display_name": "BerkeleyAIML",
   "language": "python",
   "name": "python3"
  },
  "language_info": {
   "codemirror_mode": {
    "name": "ipython",
    "version": 3
   },
   "file_extension": ".py",
   "mimetype": "text/x-python",
   "name": "python",
   "nbconvert_exporter": "python",
   "pygments_lexer": "ipython3",
   "version": "3.12.2"
  }
 },
 "nbformat": 4,
 "nbformat_minor": 2
}
